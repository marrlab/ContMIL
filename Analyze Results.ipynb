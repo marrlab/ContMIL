{
 "cells": [
  {
   "cell_type": "code",
   "execution_count": 1,
   "metadata": {},
   "outputs": [],
   "source": [
    "import os\n",
    "\n",
    "import pickle\n",
    "import numpy as np\n",
    "import matplotlib.pyplot as plt\n",
    "from TaskManager import TaskManager"
   ]
  },
  {
   "cell_type": "code",
   "execution_count": 2,
   "metadata": {},
   "outputs": [
    {
     "name": "stdout",
     "output_type": "stream",
     "text": [
      "1-atticarl.pkl    1-lb.pkl          2-csatticarl.pkl  2-lwf.pkl\r\n",
      "1-csatticarl.pkl  1-lwf.pkl         2-ewc.pkl         2-mas.pkl\r\n",
      "1-ewc.pkl         1-mas.pkl         2-icarl.pkl\r\n",
      "1-icarl.pkl       2-atticarl.pkl    2-lb.pkl\r\n"
     ]
    }
   ],
   "source": [
    "ls results"
   ]
  },
  {
   "cell_type": "code",
   "execution_count": 43,
   "metadata": {},
   "outputs": [],
   "source": [
    "exp = 1\n",
    "T = 4\n",
    "methods = [\"lb\",\"ewc\",\"lwf\",\"mas\"]#\"icarl\",\"atticarl\", \"csatticarl\"]\n",
    "colors = {\"lb\":\"g\", \"ewc\":\"r\", \"icarl\":\"b\", \"atticarl\":\"k\", \"csatticarl\":\"y\",\"lwf\":\"c\",\"mas\":\"k\"}"
   ]
  },
  {
   "cell_type": "code",
   "execution_count": 44,
   "metadata": {},
   "outputs": [],
   "source": [
    "def load_results(exp, method, ds=\"\"):\n",
    "    tm = TaskManager(exp)\n",
    "    ret = []\n",
    "    \n",
    "    with open(\"results/\" + str(exp) + \"-\" + method + \".pkl\", \"rb\") as f:\n",
    "        results = pickle.load(f)\n",
    "        for i in range(T):\n",
    "            ret.append(np.mean(np.array(results[i])))\n",
    "        print(results)\n",
    "    return ret"
   ]
  },
  {
   "cell_type": "code",
   "execution_count": null,
   "metadata": {},
   "outputs": [],
   "source": []
  },
  {
   "cell_type": "code",
   "execution_count": 45,
   "metadata": {},
   "outputs": [
    {
     "name": "stdout",
     "output_type": "stream",
     "text": [
      "lb\n",
      "Loading patient lists and labels... [done]\n",
      "{0: [0.9453125], 1: [0.0, 0.7666666666666667], 2: [0.0, 0.0, 0.8130841121495327], 3: [0.0, 0.0, 0.0, 1.0]}\n",
      "[0.9453125, 0.38333333333333336, 0.27102803738317754, 0.25]\n",
      "ewc\n",
      "Loading patient lists and labels... [done]\n",
      "{0: [0.9453125], 1: [0.0, 0.7333333333333333], 2: [0.90625, 0.0, 0.0], 3: [0.90625, 0.0, 0.0, 0.0]}\n",
      "[0.9453125, 0.36666666666666664, 0.3020833333333333, 0.2265625]\n",
      "lwf\n",
      "Loading patient lists and labels... [done]\n",
      "{0: [0.9453125], 1: [0.0, 0.7333333333333333], 2: [0.0, 0.0, 0.8691588785046729], 3: [0.0, 0.0, 0.0, 1.0]}\n",
      "[0.9453125, 0.36666666666666664, 0.2897196261682243, 0.25]\n",
      "mas\n",
      "Loading patient lists and labels... [done]\n",
      "{0: [0.9453125], 1: [0.0, 0.7666666666666667], 2: [0.0, 0.0, 0.8411214953271028], 3: [0.0, 0.0, 0.0, 1.0]}\n",
      "[0.9453125, 0.38333333333333336, 0.2803738317757009, 0.25]\n"
     ]
    },
    {
     "data": {
      "image/png": "[encoded data removed]",
      "text/plain": [
       "<Figure size 432x288 with 1 Axes>"
      ]
     },
     "metadata": {
      "needs_background": "light"
     },
     "output_type": "display_data"
    }
   ],
   "source": [
    "for method in methods:\n",
    "    print(method)\n",
    "    res = load_results(exp, method)\n",
    "    print(res)\n",
    "    plt.plot(range(T), res, colors[method]+\"o--\")\n",
    "        "
   ]
  },
  {
   "cell_type": "code",
   "execution_count": 46,
   "metadata": {},
   "outputs": [
    {
     "name": "stdout",
     "output_type": "stream",
     "text": [
      "{0: [0.9296875], 1: [0.6796875, 0.43333333333333335], 2: [0.484375, 0.18333333333333332, 0.5607476635514018]}\n"
     ]
    }
   ],
   "source": [
    "\n",
    "with open(\"results/1-icarl.pkl\", \"rb\") as f:\n",
    "        results = pickle.load(f)\n",
    "print(results)"
   ]
  },
  {
   "cell_type": "code",
   "execution_count": null,
   "metadata": {},
   "outputs": [],
   "source": []
  },
  {
   "cell_type": "code",
   "execution_count": null,
   "metadata": {},
   "outputs": [],
   "source": []
  }
 ],
 "metadata": {
  "kernelspec": {
   "display_name": "Python 3",
   "language": "python",
   "name": "python3"
  },
  "language_info": {
   "codemirror_mode": {
    "name": "ipython",
    "version": 3
   },
   "file_extension": ".py",
   "mimetype": "text/x-python",
   "name": "python",
   "nbconvert_exporter": "python",
   "pygments_lexer": "ipython3",
   "version": "3.7.6"
  }
 },
 "nbformat": 4,
 "nbformat_minor": 5
}
